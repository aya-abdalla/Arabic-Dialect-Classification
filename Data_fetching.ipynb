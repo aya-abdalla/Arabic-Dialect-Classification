{
 "cells": [
  {
   "cell_type": "code",
   "execution_count": 2,
   "metadata": {},
   "outputs": [
    {
     "name": "stdout",
     "output_type": "stream",
     "text": [
      "<class 'pandas.core.frame.DataFrame'>\n",
      "RangeIndex: 458197 entries, 0 to 458196\n",
      "Data columns (total 2 columns):\n",
      " #   Column   Non-Null Count   Dtype \n",
      "---  ------   --------------   ----- \n",
      " 0   id       458197 non-null  object\n",
      " 1   dialect  458197 non-null  object\n",
      "dtypes: object(2)\n",
      "memory usage: 7.0+ MB\n"
     ]
    }
   ],
   "source": [
    "import numpy as np\n",
    "import pandas as pd\n",
    "import category_encoders as ce\n",
    "df=pd.read_csv(\"dialect_dataset.csv\")\n",
    "df=pd.read_csv(\"dialect_dataset.csv\",converters={'id': str})\n",
    "df.info()"
   ]
  },
  {
   "cell_type": "code",
   "execution_count": 35,
   "metadata": {},
   "outputs": [],
   "source": [
    "import requests\n",
    "import json\n",
    "def fetch_data(df):\n",
    "    response = requests.get(\"https://recruitment.aimtechnologies.co/ai-tasks\")\n",
    "\n",
    "    myIDlist= df['id'].tolist()\n",
    "    tweetsdic={}\n",
    "    # reading 1000 tweet by 1000 tweet \n",
    "    for i in range(0,len(myIDlist),1000):\n",
    "        lastindex=min(i+1000,len(myIDlist))\n",
    "        jsonString = json.dumps(myIDlist[i:lastindex])\n",
    "        response = requests.post('https://recruitment.aimtechnologies.co/ai-tasks', data=jsonString)\n",
    "        mydic=response.json()\n",
    "        tweetsdic.update(mydic)\n",
    "    return tweetsdic\n",
    " "
   ]
  }
 ],
 "metadata": {
  "kernelspec": {
   "display_name": "Python 3",
   "language": "python",
   "name": "python3"
  },
  "language_info": {
   "codemirror_mode": {
    "name": "ipython",
    "version": 3
   },
   "file_extension": ".py",
   "mimetype": "text/x-python",
   "name": "python",
   "nbconvert_exporter": "python",
   "pygments_lexer": "ipython3",
   "version": "3.8.5"
  }
 },
 "nbformat": 4,
 "nbformat_minor": 4
}
